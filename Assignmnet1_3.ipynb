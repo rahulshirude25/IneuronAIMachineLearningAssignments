{
 "cells": [
  {
   "cell_type": "code",
   "execution_count": 5,
   "metadata": {},
   "outputs": [
    {
     "name": "stdin",
     "output_type": "stream",
     "text": [
      "enter first name rahul\n",
      "enter second name shirude\n"
     ]
    },
    {
     "name": "stdout",
     "output_type": "stream",
     "text": [
      "luhar edurihs\n"
     ]
    }
   ],
   "source": [
    "def reverse(name):\n",
    " str = \"\" \n",
    " for i in name: \n",
    "    str = i + str\n",
    " return str\n",
    "fname=input(\"enter first name\")\n",
    "lname=input(\"enter second name\")\n",
    "print(reverse(fname)+\" \"+reverse(lname))"
   ]
  },
  {
   "cell_type": "code",
   "execution_count": null,
   "metadata": {},
   "outputs": [],
   "source": []
  },
  {
   "cell_type": "code",
   "execution_count": null,
   "metadata": {},
   "outputs": [],
   "source": []
  }
 ],
 "metadata": {
  "kernelspec": {
   "display_name": "Python 3",
   "language": "python",
   "name": "python3"
  },
  "language_info": {
   "codemirror_mode": {
    "name": "ipython",
    "version": 3
   },
   "file_extension": ".py",
   "mimetype": "text/x-python",
   "name": "python",
   "nbconvert_exporter": "python",
   "pygments_lexer": "ipython3",
   "version": "3.7.2"
  }
 },
 "nbformat": 4,
 "nbformat_minor": 4
}
